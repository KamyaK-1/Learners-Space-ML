**RUN ALL THE CELLS AND DON'T EDIT ANY CELL**

**CODE IN THE MENTIONED CELLS ONLY**
## Import Necessary Files
import cv2
import numpy as np
import matplotlib.pyplot as plt
Add ```/path/to/your/folder``` to load the images
cartoon = cv2.imread("./images/cartoon.bmp")
cartoon_y = cv2.imread("./images/cartoon_y.jpg")
girl = cv2.imread("./images/girl.png",cv2.IMREAD_GRAYSCALE) #grayscale image
girl_y = cv2.imread("./images/girl_y.jpg")
fingerprint = cv2.imread("./images/fingerprint.jpg")
fingerprint_y = cv2.imread("./images/fingerprint_y.jpg")
## Raw and Final Image
You need to process the raw images: ```cartoon, girl, fingerprint``` to get the processed images: ```cartoon_y, girl_y, fingerprint_y```

Your processed image need not be 100% alike given processed image. They are given to give you an idea of what to process in the raw images.
fig, axs = plt.subplots(3,2,figsize=(8,12))
axs[0,0].imshow(cv2.cvtColor(cartoon,cv2.COLOR_BGR2RGB))
axs[0,1].imshow(cartoon_y)
axs[0,0].axis("off")
axs[0,1].axis("off")
axs[0,0].set_title("Raw")
axs[0,1].set_title("Masked")
axs[1,0].imshow(girl)
axs[1,1].imshow(girl_y)
axs[1,0].axis("off")
axs[1,1].axis("off")
axs[1,0].set_title("Raw")
axs[1,1].set_title("Edges")
axs[2,0].imshow(cv2.cvtColor(fingerprint,cv2.COLOR_BGR2RGB))
axs[2,1].imshow(fingerprint_y)
axs[2,0].axis("off")
axs[2,1].axis("off")
axs[2,0].set_title("Raw")
axs[2,1].set_title("Binary")
plt.show()
## Code in the following 3 cells only
### Cartoon
For the bart image, you need to mask the dress. Write all your code in the cell below and the final image should be stored in ```cartoon_y_mentee``` variable only or it'll show error later.

#START CODE HERE (Do all your processing here)
bgr_green_color = [0,255,0]
hsv_green_color = cv2.cvtColor(np.uint8([[bgr_green_color]]),cv2.COLOR_BGR2HSV) #Converting to hsv color

bgr_img = cv2.cvtColor(cartoon, cv2.COLOR_RGB2HSV) # Background image in hsv format

lower_limit = np.array([hsv_green_color[0][0][0] - 20,50,50],dtype='uint8') #lower limit of green color (-20 is difference in hue)
upper_limit =np.array( [hsv_green_color[0][0][0] + 20,255,255],dtype='uint8') #upper limit of green color  

print(lower_limit,upper_limit)

Mask =  cv2.inRange(bgr_img,lower_limit,upper_limit)
cartoon_y_mentee = cv2.bitwise_and(cartoon,cartoon,mask=Mask)#(in RGB format only)

plt.imshow(cartoon_y_mentee)

#END CODE HERE (the final processed image should be cartoon_y_mentee)
### Girl
For the girl image, you need to detect the edges. Write all your code in the cell below and the final image should be stored in ```girl_y_mentee``` variable only or it'll show error later.


girl = cv2.GaussianBlur(girl,(5,5),0)
cv2.imshow('girl',girl)
cv2.waitKey(3000)
cv2.destroyAllWindows()
cv2.waitKey(1)
#START CODE HERE (Do all your processing here)

girl_y_mentee = cv2.Canny(girl,130,140)
plt.imshow(girl_y_mentee,cmap='gray')

#END CODE HERE (the final processed image should be girl_y_mentee)
### Fingerprint
For the fingerprint image, you need to convert it to binary image. Binary images have 2 intensities only (0 or 255). Write all your code in the cell below and the final image should be stored in ```cartoon_y_mentee``` variable only or it'll show error later.
#START CODE HERE (Do all your processing here)
y = lambda x: 255 if x>150 else 0
fingerprint_y_mentee = np.vectorize(y)(fingerprint) #(in Binary format only i.e. pixel intensity = 0 or 255)
#END CODE HERE (the final processed image should be fingerprint_y_mentee)
## Comparison
fig, axs1 = plt.subplots(3,2,figsize=(8,12))
axs1[0,0].imshow(cartoon_y_mentee)
axs1[0,1].imshow(cartoon_y)
axs1[0,0].axis("off")
axs1[0,1].axis("off")
axs1[0,0].set_title("Masked_Mentee")
axs1[0,1].set_title("Masked")
axs1[1,0].imshow(girl_y_mentee,cmap="gray")
axs1[1,1].imshow(girl_y)
axs1[1,0].axis("off")
axs1[1,1].axis("off")
axs1[1,0].set_title("Edges_Mentee")
axs1[1,1].set_title("Edges")
axs1[2,0].imshow(fingerprint_y_mentee,cmap="gray")
axs1[2,1].imshow(fingerprint_y)
axs1[2,0].axis("off")
axs1[2,1].axis("off")
axs1[2,0].set_title("Binary_Mentee")
axs1[2,1].set_title("Binary")
plt.show()
