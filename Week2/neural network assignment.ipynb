{
 "cells": [
  {
   "cell_type": "code",
   "execution_count": 612,
   "metadata": {},
   "outputs": [],
   "source": [
    "import numpy as np\n",
    "import tensorflow as tf\n",
    "import matplotlib.pyplot as plt"
   ]
  },
  {
   "cell_type": "code",
   "execution_count": 613,
   "metadata": {},
   "outputs": [],
   "source": [
    "import matplotlib.image as img\n",
    "from PIL import Image\n",
    "# test_image = Image.open('./homer_bart/Bart/bart1.bmp')\n",
    "# test_image_resized = test_image.resize((64,64))\n",
    "# plt.imshow(test_image_resized)\n",
    "# plt.show()\n",
    "# z = np.asarray(test_image_resized)\n",
    "# print(z.shape)\n",
    "# unique,counts = np.unique(z,return_counts=True)\n",
    "# print(np.asarray((unique,counts)).T)"
   ]
  },
  {
   "cell_type": "code",
   "execution_count": 614,
   "metadata": {},
   "outputs": [],
   "source": [
    "from tensorflow import keras\n",
    "from tensorflow.keras import layers\n",
    "model = keras.Sequential()\n",
    "model.add(keras.Input(shape=(64*64*3,)))\n",
    "model.add(layers.Dense(1024, activation=\"relu\"))\n",
    "model.add(layers.Dense(256, activation=\"relu\"))\n",
    "model.add(layers.Dense(64, activation=\"relu\"))\n",
    "model.add(layers.Dense(1, activation=\"sigmoid\"))\n",
    "\n",
    "model.compile(optimizer=keras.optimizers.Adam(learning_rate=0.0001), loss=\"binary_crossentropy\", metrics=['accuracy'])\n"
   ]
  },
  {
   "cell_type": "code",
   "execution_count": 615,
   "metadata": {},
   "outputs": [],
   "source": [
    "def image_to_array(image_path:str):\n",
    "    image = Image.open(image_path)\n",
    "    # image = image.convert('L')\n",
    "    image_resized = image.resize((64,64))\n",
    "    return np.asarray(image_resized).reshape(-1)\n",
    "def flipped_image(array):\n",
    "    return np.flip(array.reshape(64,64,3),1).reshape(-1)"
   ]
  },
  {
   "cell_type": "code",
   "execution_count": 616,
   "metadata": {},
   "outputs": [
    {
     "name": "stdout",
     "output_type": "stream",
     "text": [
      "(538, 12288)\n"
     ]
    }
   ],
   "source": [
    "\n",
    "from pathlib import Path\n",
    "directory1 = Path('./homer_bart/Bart')\n",
    "files = directory1.glob('*')\n",
    "\n",
    "paths = []\n",
    "for file in files:\n",
    "    if file.is_file():  \n",
    "        paths.append('./homer_bart/Bart/' + file.name)\n",
    "Bart_images_count = len(paths)\n",
    "\n",
    "directory2 = Path('./homer_bart/Homer')\n",
    "files = directory2.glob('*')\n",
    "\n",
    "for file in files:\n",
    "    if file.is_file():  \n",
    "        paths.append('./homer_bart/Homer/' + file.name)\n",
    "Homers_images_count = len(paths) - Bart_images_count\n",
    "# print(Homers_images_count)\n",
    "# print(Bart_images_count)\n",
    "\n",
    "x_complete = []\n",
    "for i in paths:\n",
    "    x_complete.append(image_to_array(i))\n",
    "    x_complete.append(flipped_image(x_complete[-1]))\n",
    "x_complete = np.array(x_complete)\n",
    "y_complete = np.concatenate([np.zeros(Bart_images_count*2),np.ones(Homers_images_count*2)])\n",
    "print(x_complete.shape) \n"
   ]
  },
  {
   "cell_type": "code",
   "execution_count": 617,
   "metadata": {},
   "outputs": [],
   "source": [
    "indices = np.arange(x_complete.shape[0])\n",
    "np.random.seed(100)\n",
    "np.random.shuffle(indices)\n",
    "x_complete = x_complete/255.0\n",
    "\n",
    "test_count = int(0.1 * x_complete.shape[0])\n",
    "x_train = x_complete[indices[test_count:]]\n",
    "y_train = y_complete[indices[test_count:]]\n",
    "x_test = x_complete[indices[:test_count]]\n",
    "y_test = y_complete[indices[:test_count]]"
   ]
  },
  {
   "cell_type": "code",
   "execution_count": 618,
   "metadata": {},
   "outputs": [
    {
     "name": "stdout",
     "output_type": "stream",
     "text": [
      "\u001b[1m15/15\u001b[0m \u001b[32m━━━━━━━━━━━━━━━━━━━━\u001b[0m\u001b[37m\u001b[0m \u001b[1m1s\u001b[0m 22ms/step - accuracy: 0.5438 - loss: 1.0974\n",
      "Epoch 1 accuracy: 0.5305677056312561\n",
      "\u001b[1m15/15\u001b[0m \u001b[32m━━━━━━━━━━━━━━━━━━━━\u001b[0m\u001b[37m\u001b[0m \u001b[1m0s\u001b[0m 22ms/step - accuracy: 0.6160 - loss: 0.6565\n",
      "Epoch 2 accuracy: 0.6048035025596619\n",
      "\u001b[1m15/15\u001b[0m \u001b[32m━━━━━━━━━━━━━━━━━━━━\u001b[0m\u001b[37m\u001b[0m \u001b[1m0s\u001b[0m 23ms/step - accuracy: 0.6354 - loss: 0.6142\n",
      "Epoch 3 accuracy: 0.6550218462944031\n",
      "\u001b[1m15/15\u001b[0m \u001b[32m━━━━━━━━━━━━━━━━━━━━\u001b[0m\u001b[37m\u001b[0m \u001b[1m0s\u001b[0m 21ms/step - accuracy: 0.7236 - loss: 0.5385\n",
      "Epoch 4 accuracy: 0.7467249035835266\n",
      "\u001b[1m15/15\u001b[0m \u001b[32m━━━━━━━━━━━━━━━━━━━━\u001b[0m\u001b[37m\u001b[0m \u001b[1m0s\u001b[0m 25ms/step - accuracy: 0.7787 - loss: 0.4962\n",
      "Epoch 5 accuracy: 0.7903929948806763\n",
      "\u001b[1m15/15\u001b[0m \u001b[32m━━━━━━━━━━━━━━━━━━━━\u001b[0m\u001b[37m\u001b[0m \u001b[1m0s\u001b[0m 24ms/step - accuracy: 0.7612 - loss: 0.5094\n",
      "Epoch 6 accuracy: 0.7598253488540649\n",
      "\u001b[1m15/15\u001b[0m \u001b[32m━━━━━━━━━━━━━━━━━━━━\u001b[0m\u001b[37m\u001b[0m \u001b[1m0s\u001b[0m 21ms/step - accuracy: 0.8035 - loss: 0.4539\n",
      "Epoch 7 accuracy: 0.7925764322280884\n",
      "\u001b[1m15/15\u001b[0m \u001b[32m━━━━━━━━━━━━━━━━━━━━\u001b[0m\u001b[37m\u001b[0m \u001b[1m0s\u001b[0m 23ms/step - accuracy: 0.7961 - loss: 0.4444\n",
      "Epoch 8 accuracy: 0.7751091718673706\n",
      "\u001b[1m15/15\u001b[0m \u001b[32m━━━━━━━━━━━━━━━━━━━━\u001b[0m\u001b[37m\u001b[0m \u001b[1m0s\u001b[0m 21ms/step - accuracy: 0.7952 - loss: 0.4411\n",
      "Epoch 9 accuracy: 0.77947598695755\n",
      "\u001b[1m15/15\u001b[0m \u001b[32m━━━━━━━━━━━━━━━━━━━━\u001b[0m\u001b[37m\u001b[0m \u001b[1m0s\u001b[0m 23ms/step - accuracy: 0.7342 - loss: 0.4666\n",
      "Epoch 10 accuracy: 0.7641921639442444\n",
      "\u001b[1m15/15\u001b[0m \u001b[32m━━━━━━━━━━━━━━━━━━━━\u001b[0m\u001b[37m\u001b[0m \u001b[1m0s\u001b[0m 21ms/step - accuracy: 0.8194 - loss: 0.3859\n",
      "Epoch 11 accuracy: 0.8275108933448792\n",
      "\u001b[1m15/15\u001b[0m \u001b[32m━━━━━━━━━━━━━━━━━━━━\u001b[0m\u001b[37m\u001b[0m \u001b[1m0s\u001b[0m 21ms/step - accuracy: 0.7880 - loss: 0.4521\n",
      "Epoch 12 accuracy: 0.8209607005119324\n",
      "\u001b[1m15/15\u001b[0m \u001b[32m━━━━━━━━━━━━━━━━━━━━\u001b[0m\u001b[37m\u001b[0m \u001b[1m0s\u001b[0m 24ms/step - accuracy: 0.8086 - loss: 0.4164\n",
      "Epoch 13 accuracy: 0.8253275156021118\n",
      "\u001b[1m15/15\u001b[0m \u001b[32m━━━━━━━━━━━━━━━━━━━━\u001b[0m\u001b[37m\u001b[0m \u001b[1m0s\u001b[0m 22ms/step - accuracy: 0.7920 - loss: 0.4415\n",
      "Epoch 14 accuracy: 0.751091718673706\n",
      "\u001b[1m15/15\u001b[0m \u001b[32m━━━━━━━━━━━━━━━━━━━━\u001b[0m\u001b[37m\u001b[0m \u001b[1m0s\u001b[0m 23ms/step - accuracy: 0.7713 - loss: 0.4774\n",
      "Epoch 15 accuracy: 0.8034934401512146\n",
      "\u001b[1m15/15\u001b[0m \u001b[32m━━━━━━━━━━━━━━━━━━━━\u001b[0m\u001b[37m\u001b[0m \u001b[1m0s\u001b[0m 22ms/step - accuracy: 0.8430 - loss: 0.3596\n",
      "Epoch 16 accuracy: 0.8253275156021118\n",
      "\u001b[1m15/15\u001b[0m \u001b[32m━━━━━━━━━━━━━━━━━━━━\u001b[0m\u001b[37m\u001b[0m \u001b[1m0s\u001b[0m 22ms/step - accuracy: 0.7702 - loss: 0.4846\n",
      "Epoch 17 accuracy: 0.7925764322280884\n",
      "\u001b[1m15/15\u001b[0m \u001b[32m━━━━━━━━━━━━━━━━━━━━\u001b[0m\u001b[37m\u001b[0m \u001b[1m0s\u001b[0m 21ms/step - accuracy: 0.8569 - loss: 0.3652\n",
      "Epoch 18 accuracy: 0.8515284061431885\n",
      "\u001b[1m15/15\u001b[0m \u001b[32m━━━━━━━━━━━━━━━━━━━━\u001b[0m\u001b[37m\u001b[0m \u001b[1m0s\u001b[0m 22ms/step - accuracy: 0.8481 - loss: 0.3359\n",
      "Epoch 19 accuracy: 0.8602620363235474\n",
      "\u001b[1m15/15\u001b[0m \u001b[32m━━━━━━━━━━━━━━━━━━━━\u001b[0m\u001b[37m\u001b[0m \u001b[1m0s\u001b[0m 22ms/step - accuracy: 0.8726 - loss: 0.2987\n",
      "Epoch 20 accuracy: 0.8733624219894409\n",
      "\u001b[1m15/15\u001b[0m \u001b[32m━━━━━━━━━━━━━━━━━━━━\u001b[0m\u001b[37m\u001b[0m \u001b[1m0s\u001b[0m 22ms/step - accuracy: 0.8376 - loss: 0.3768\n",
      "Epoch 21 accuracy: 0.8253275156021118\n",
      "\u001b[1m15/15\u001b[0m \u001b[32m━━━━━━━━━━━━━━━━━━━━\u001b[0m\u001b[37m\u001b[0m \u001b[1m0s\u001b[0m 22ms/step - accuracy: 0.7779 - loss: 0.4670\n",
      "Epoch 22 accuracy: 0.8122270703315735\n",
      "\u001b[1m15/15\u001b[0m \u001b[32m━━━━━━━━━━━━━━━━━━━━\u001b[0m\u001b[37m\u001b[0m \u001b[1m0s\u001b[0m 22ms/step - accuracy: 0.8653 - loss: 0.3457\n",
      "Epoch 23 accuracy: 0.8558952212333679\n",
      "\u001b[1m15/15\u001b[0m \u001b[32m━━━━━━━━━━━━━━━━━━━━\u001b[0m\u001b[37m\u001b[0m \u001b[1m0s\u001b[0m 21ms/step - accuracy: 0.8391 - loss: 0.3483\n",
      "Epoch 24 accuracy: 0.8384279608726501\n",
      "\u001b[1m15/15\u001b[0m \u001b[32m━━━━━━━━━━━━━━━━━━━━\u001b[0m\u001b[37m\u001b[0m \u001b[1m0s\u001b[0m 22ms/step - accuracy: 0.8105 - loss: 0.4187\n",
      "Epoch 25 accuracy: 0.8187772631645203\n",
      "\u001b[1m15/15\u001b[0m \u001b[32m━━━━━━━━━━━━━━━━━━━━\u001b[0m\u001b[37m\u001b[0m \u001b[1m0s\u001b[0m 21ms/step - accuracy: 0.8874 - loss: 0.2940\n",
      "Epoch 26 accuracy: 0.8777292370796204\n",
      "\u001b[1m15/15\u001b[0m \u001b[32m━━━━━━━━━━━━━━━━━━━━\u001b[0m\u001b[37m\u001b[0m \u001b[1m0s\u001b[0m 22ms/step - accuracy: 0.8984 - loss: 0.2712\n",
      "Epoch 27 accuracy: 0.9082969427108765\n",
      "\u001b[1m15/15\u001b[0m \u001b[32m━━━━━━━━━━━━━━━━━━━━\u001b[0m\u001b[37m\u001b[0m \u001b[1m0s\u001b[0m 21ms/step - accuracy: 0.8951 - loss: 0.2649\n",
      "Epoch 28 accuracy: 0.8973799347877502\n",
      "\u001b[1m15/15\u001b[0m \u001b[32m━━━━━━━━━━━━━━━━━━━━\u001b[0m\u001b[37m\u001b[0m \u001b[1m0s\u001b[0m 22ms/step - accuracy: 0.8895 - loss: 0.3054\n",
      "Epoch 29 accuracy: 0.9061135649681091\n",
      "\u001b[1m15/15\u001b[0m \u001b[32m━━━━━━━━━━━━━━━━━━━━\u001b[0m\u001b[37m\u001b[0m \u001b[1m0s\u001b[0m 22ms/step - accuracy: 0.8212 - loss: 0.3664\n",
      "Epoch 30 accuracy: 0.8711790442466736\n",
      "\u001b[1m15/15\u001b[0m \u001b[32m━━━━━━━━━━━━━━━━━━━━\u001b[0m\u001b[37m\u001b[0m \u001b[1m0s\u001b[0m 22ms/step - accuracy: 0.9191 - loss: 0.2466\n",
      "Epoch 31 accuracy: 0.9235807657241821\n",
      "\u001b[1m15/15\u001b[0m \u001b[32m━━━━━━━━━━━━━━━━━━━━\u001b[0m\u001b[37m\u001b[0m \u001b[1m0s\u001b[0m 22ms/step - accuracy: 0.9220 - loss: 0.2303\n",
      "Epoch 32 accuracy: 0.9213973879814148\n",
      "\u001b[1m15/15\u001b[0m \u001b[32m━━━━━━━━━━━━━━━━━━━━\u001b[0m\u001b[37m\u001b[0m \u001b[1m0s\u001b[0m 22ms/step - accuracy: 0.8783 - loss: 0.2822\n",
      "Epoch 33 accuracy: 0.8820960521697998\n",
      "\u001b[1m15/15\u001b[0m \u001b[32m━━━━━━━━━━━━━━━━━━━━\u001b[0m\u001b[37m\u001b[0m \u001b[1m0s\u001b[0m 22ms/step - accuracy: 0.8957 - loss: 0.2323\n",
      "Epoch 34 accuracy: 0.9170305728912354\n",
      "\u001b[1m15/15\u001b[0m \u001b[32m━━━━━━━━━━━━━━━━━━━━\u001b[0m\u001b[37m\u001b[0m \u001b[1m0s\u001b[0m 21ms/step - accuracy: 0.9226 - loss: 0.2058\n",
      "Epoch 35 accuracy: 0.9301310181617737\n",
      "\u001b[1m15/15\u001b[0m \u001b[32m━━━━━━━━━━━━━━━━━━━━\u001b[0m\u001b[37m\u001b[0m \u001b[1m0s\u001b[0m 21ms/step - accuracy: 0.9024 - loss: 0.2268\n",
      "Epoch 36 accuracy: 0.9213973879814148\n",
      "\u001b[1m15/15\u001b[0m \u001b[32m━━━━━━━━━━━━━━━━━━━━\u001b[0m\u001b[37m\u001b[0m \u001b[1m0s\u001b[0m 21ms/step - accuracy: 0.9295 - loss: 0.2010\n",
      "Epoch 37 accuracy: 0.9257642030715942\n",
      "\u001b[1m15/15\u001b[0m \u001b[32m━━━━━━━━━━━━━━━━━━━━\u001b[0m\u001b[37m\u001b[0m \u001b[1m0s\u001b[0m 22ms/step - accuracy: 0.8894 - loss: 0.2637\n",
      "Epoch 38 accuracy: 0.8733624219894409\n",
      "\u001b[1m15/15\u001b[0m \u001b[32m━━━━━━━━━━━━━━━━━━━━\u001b[0m\u001b[37m\u001b[0m \u001b[1m0s\u001b[0m 22ms/step - accuracy: 0.8658 - loss: 0.2955\n",
      "Epoch 39 accuracy: 0.8864628672599792\n",
      "\u001b[1m15/15\u001b[0m \u001b[32m━━━━━━━━━━━━━━━━━━━━\u001b[0m\u001b[37m\u001b[0m \u001b[1m0s\u001b[0m 21ms/step - accuracy: 0.9343 - loss: 0.1813\n",
      "Epoch 40 accuracy: 0.9192139506340027\n",
      "\u001b[1m15/15\u001b[0m \u001b[32m━━━━━━━━━━━━━━━━━━━━\u001b[0m\u001b[37m\u001b[0m \u001b[1m0s\u001b[0m 22ms/step - accuracy: 0.9268 - loss: 0.2098\n",
      "Epoch 41 accuracy: 0.9213973879814148\n",
      "\u001b[1m15/15\u001b[0m \u001b[32m━━━━━━━━━━━━━━━━━━━━\u001b[0m\u001b[37m\u001b[0m \u001b[1m0s\u001b[0m 21ms/step - accuracy: 0.9248 - loss: 0.2313\n",
      "Epoch 42 accuracy: 0.932314395904541\n",
      "\u001b[1m15/15\u001b[0m \u001b[32m━━━━━━━━━━━━━━━━━━━━\u001b[0m\u001b[37m\u001b[0m \u001b[1m0s\u001b[0m 21ms/step - accuracy: 0.8876 - loss: 0.2285\n",
      "Epoch 43 accuracy: 0.9148471355438232\n",
      "\u001b[1m15/15\u001b[0m \u001b[32m━━━━━━━━━━━━━━━━━━━━\u001b[0m\u001b[37m\u001b[0m \u001b[1m0s\u001b[0m 22ms/step - accuracy: 0.9497 - loss: 0.1447\n",
      "Epoch 44 accuracy: 0.960698664188385\n",
      "\u001b[1m15/15\u001b[0m \u001b[32m━━━━━━━━━━━━━━━━━━━━\u001b[0m\u001b[37m\u001b[0m \u001b[1m0s\u001b[0m 21ms/step - accuracy: 0.9816 - loss: 0.1167\n",
      "Epoch 45 accuracy: 0.9781659245491028\n",
      "\u001b[1m15/15\u001b[0m \u001b[32m━━━━━━━━━━━━━━━━━━━━\u001b[0m\u001b[37m\u001b[0m \u001b[1m0s\u001b[0m 21ms/step - accuracy: 0.9898 - loss: 0.1140\n",
      "\u001b[1m3/3\u001b[0m \u001b[32m━━━━━━━━━━━━━━━━━━━━\u001b[0m\u001b[37m\u001b[0m \u001b[1m0s\u001b[0m 5ms/step - accuracy: 0.8281 - loss: 0.4411 \n"
     ]
    }
   ],
   "source": [
    "Batch_size = 32\n",
    "ep = 0\n",
    "\n",
    "# model.fit(x_train,y_train,batch_size=Batch_size,epochs = Epochs)\n",
    "while ep < 100:\n",
    "    history = model.fit(x_train,y_train,batch_size=Batch_size,epochs = 1)\n",
    "    accuracy = history.history['accuracy'][0]\n",
    "    ep+=1\n",
    "    if accuracy > 0.98:\n",
    "        break\n",
    "    print(f'Epoch {ep} accuracy: {accuracy}')\n",
    "test_loss, test_acc = model.evaluate(x_test, y_test)\n",
    "# 30 (0.0001)-> 69\n"
   ]
  },
  {
   "cell_type": "code",
   "execution_count": null,
   "metadata": {},
   "outputs": [],
   "source": []
  }
 ],
 "metadata": {
  "kernelspec": {
   "display_name": "tf",
   "language": "python",
   "name": "python3"
  },
  "language_info": {
   "codemirror_mode": {
    "name": "ipython",
    "version": 3
   },
   "file_extension": ".py",
   "mimetype": "text/x-python",
   "name": "python",
   "nbconvert_exporter": "python",
   "pygments_lexer": "ipython3",
   "version": "3.12.4"
  },
  "orig_nbformat": 4
 },
 "nbformat": 4,
 "nbformat_minor": 2
}
