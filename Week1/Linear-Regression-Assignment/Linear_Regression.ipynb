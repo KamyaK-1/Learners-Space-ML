{
 "cells": [
  {
   "cell_type": "code",
   "execution_count": 22,
   "metadata": {},
   "outputs": [],
   "source": [
    "import numpy as np\n",
    "import pandas as pd\n",
    "import matplotlib.pyplot as plt\n",
    "\n",
    "# Aim is to predict the marks of students of the test data"
   ]
  },
  {
   "cell_type": "code",
   "execution_count": 23,
   "metadata": {},
   "outputs": [],
   "source": [
    "# Use the file namd 'training data' to train the model\n",
    "\n",
    "data = pd.read_excel('Training data.xlsx')\n",
    "x_train = np.array(data.iloc[:,0:8])\n",
    "y_train = np.array(data.iloc[:,8]).reshape(-1,1)\n",
    "\n",
    "# Try plotting y_train with different features\n",
    "# To get an idea whether to add some features or not\n",
    "# Add some features if required in x_train\n",
    "\n",
    "# Also do label encoding for features not represented in numbers\n",
    "# refer the link if not know : https://youtu.be/589nCGeWG1w?si=t2Wa7LgbUOO4RooM\n",
    "\n",
    "def feature_changing(x_train):\n",
    "  gender = lambda g:0.1 if g=='M' else -0.1\n",
    "  internet = lambda i:0.1 if i=='yes' else -0.1\n",
    "  x_train[:,0] = np.vectorize(internet)(x_train[:,0])\n",
    "  x_train[:,1] = np.vectorize(gender)(x_train[:,1])\n",
    "  x = x_train[:,[0,2,3,4,5,6,7]]\n",
    "  # ---------\n",
    "    # Your code here\n",
    "  # ---------\n",
    "  return x\n",
    "\n",
    "x_train = feature_changing(x_train)"
   ]
  },
  {
   "cell_type": "code",
   "execution_count": 24,
   "metadata": {},
   "outputs": [
    {
     "name": "stdout",
     "output_type": "stream",
     "text": [
      "[-0.1 2 2 5 6 18 118] [73.13]\n"
     ]
    }
   ],
   "source": [
    "print(x_train[0],y_train[0])"
   ]
  },
  {
   "cell_type": "code",
   "execution_count": 25,
   "metadata": {},
   "outputs": [],
   "source": [
    "def z_score(x_train):\n",
    "    \n",
    "  # ---------\n",
    "    # write the code for feature scaling here\n",
    "    x_mean = np.mean(x_train,axis = 0)\n",
    "    x_std = np.std(x_train,axis=0)\n",
    "    x_train = ( x_train - x_mean ) / x_std\n",
    "  # ---------\n",
    "    \n",
    "    return x_train,x_std,x_mean\n"
   ]
  },
  {
   "cell_type": "code",
   "execution_count": 26,
   "metadata": {},
   "outputs": [],
   "source": [
    "def cost(x_train,y_train,w,b):\n",
    "    \n",
    "  # ---------\n",
    "    # Your code here\n",
    "    # Use mean square error as cost function\n",
    "    # return cost\n",
    "    return np.mean((y_train-(np.dot(x_train,w)+b))**2)\n",
    "  # ---------\n",
    "\n",
    "    "
   ]
  },
  {
   "cell_type": "code",
   "execution_count": 27,
   "metadata": {},
   "outputs": [],
   "source": [
    "def gradient_descent(x_train,y_train,w,b,learning_rate = 0.01):\n",
    "\n",
    "  # ---------\n",
    "    # Your code here\n",
    "    y_output = np.dot(x_train,w) + b\n",
    "\n",
    "    # print(np.matmul(x_train.T,y_output-y_train).shape)\n",
    "    dw = np.matmul(x_train.T,y_output-y_train)/len(y_train)\n",
    "   \n",
    "    db = np.mean(y_output-y_train)\n",
    "    w -= learning_rate*dw\n",
    "    b -= learning_rate*db\n",
    "    assert w.shape == (7,1)\n",
    "    return w,b\n",
    "  # ---------\n"
   ]
  },
  {
   "cell_type": "code",
   "execution_count": 28,
   "metadata": {},
   "outputs": [
    {
     "name": "stdout",
     "output_type": "stream",
     "text": [
      "[[-1.39619595]\n",
      " [-0.89981419]\n",
      " [ 3.4601569 ]\n",
      " [-1.26722846]\n",
      " [-1.47681293]\n",
      " [ 0.16352806]\n",
      " [ 5.34958549]] [69.93492446]\n",
      "Congratulations, your accuracy is 100.0%\n"
     ]
    }
   ],
   "source": [
    "x_train = x_train.astype(np.float64)\n",
    "x_train,x_std,x_mean = z_score(x_train)\n",
    "\n",
    "np.random.seed(2147483647)\n",
    "w = np.random.randn(x_train.shape[1],1)\n",
    "b = np.random.randn(1)\n",
    "\n",
    "old_cost = 0\n",
    "costs = []\n",
    "while abs(old_cost - cost(x_train,y_train,w,b)) > 0.00001:\n",
    "  old_cost = cost(x_train,y_train,w,b)\n",
    "  costs.append(old_cost)\n",
    "  w,b = gradient_descent(x_train,y_train,w,b)\n",
    "print(w,b)\n",
    "# plt.plot(np.arange(len(costs)),np.array(costs))\n",
    "# plt.show()\n",
    "\n",
    "\n",
    "x_predict = pd.read_excel('Test data.xlsx').iloc[:,:8].to_numpy()\n",
    "x_predict = feature_changing(x_predict)\n",
    "x_predict = (x_predict - x_mean)/x_std\n",
    "\n",
    "\n",
    "ans = pd.read_excel('Test data.xlsx').iloc[:,8].to_numpy()\n",
    "\n",
    "y_predict = np.dot(x_predict,w) + b\n",
    "\n",
    "# plt.plot(np.arange(1000),y_train-np.dot(x_train,w)+b)\n",
    "# plt.show()\n",
    "\n",
    "# plt.plot(np.arange(200),y_predict-ans,c='Red')\n",
    "# plt.show()\n",
    "\n",
    "accuracy = 0\n",
    "for dim in range(len(ans)):\n",
    "  if abs(y_predict[dim]-ans[dim])<0.5: # do not change the tolerance as you'll be checked on +- 0.5 error only\n",
    "    accuracy += 1\n",
    "\n",
    "accuracy = round(accuracy*100/200.0,2)\n",
    "ok = 'Congratulations' if accuracy>95 else 'Optimization required'\n",
    "print(f\"{ok}, your accuracy is {accuracy}%\")"
   ]
  },
  {
   "cell_type": "code",
   "execution_count": null,
   "metadata": {},
   "outputs": [],
   "source": []
  }
 ],
 "metadata": {
  "kernelspec": {
   "display_name": "base",
   "language": "python",
   "name": "python3"
  },
  "language_info": {
   "codemirror_mode": {
    "name": "ipython",
    "version": 3
   },
   "file_extension": ".py",
   "mimetype": "text/x-python",
   "name": "python",
   "nbconvert_exporter": "python",
   "pygments_lexer": "ipython3",
   "version": "3.11.5"
  },
  "orig_nbformat": 4
 },
 "nbformat": 4,
 "nbformat_minor": 2
}
